{
  "nbformat": 4,
  "nbformat_minor": 0,
  "metadata": {
    "colab": {
      "name": "Colab Beginnner Guide.ipynb",
      "provenance": [],
      "collapsed_sections": [],
      "toc_visible": true
    },
    "kernelspec": {
      "name": "python3",
      "display_name": "Python 3"
    }
  },
  "cells": [
    {
      "cell_type": "markdown",
      "metadata": {
        "id": "S_K5j56UTlED",
        "colab_type": "text"
      },
      "source": [
        "# 快捷键\n",
        "常用快捷键总结：\n",
        "* 运行`ctrl+enter`\n",
        "* 选中文字按`ctrl+D`右上角看到文字匹配规则的三个小图标\n",
        "\n",
        "# 贴心功能\n",
        "* 鼠标在两个块之间停留可以出现快速创建代码或文本的悬浮快捷键\n",
        "* 在代码运行结果的左侧悬浮出现删除运行结果的(x)\n",
        "* 清晰的报错反馈\n",
        "* 提前导入相应模块并运行后，后续编程便会同pycharm一般方便，自动提示可用的函数或子方法\n",
        "* 嵌入式的表单成为一种新的互动输入方式，比如选择不同的展示图表等\n",
        "\n",
        "# 自带插件功能`from google.colab import widgets`\n",
        "* 维护列表中的输出内容\n"
      ]
    },
    {
      "cell_type": "markdown",
      "metadata": {
        "id": "Vz6EL1PnZYtP",
        "colab_type": "text"
      },
      "source": [
        "# 疑问\n",
        "1. 程序块中的表单\n",
        "2. 链接到单元格"
      ]
    },
    {
      "cell_type": "markdown",
      "metadata": {
        "id": "QvYaJvaQg0HU",
        "colab_type": "text"
      },
      "source": [
        "# 代码测试环节"
      ]
    },
    {
      "cell_type": "markdown",
      "metadata": {
        "id": "BPWn-kikfscY",
        "colab_type": "text"
      },
      "source": [
        "## 如果没有的模块需要先安装"
      ]
    },
    {
      "cell_type": "code",
      "metadata": {
        "id": "D07o9eMyfqq4",
        "colab_type": "code",
        "outputId": "05339552-10d6-46e5-e718-cd6fd9e216f5",
        "colab": {
          "base_uri": "https://localhost:8080/",
          "height": 315
        }
      },
      "source": [
        "#!pip install html2text\n",
        "import html2text"
      ],
      "execution_count": 0,
      "outputs": [
        {
          "output_type": "error",
          "ename": "ModuleNotFoundError",
          "evalue": "ignored",
          "traceback": [
            "\u001b[0;31m---------------------------------------------------------------------------\u001b[0m",
            "\u001b[0;31mModuleNotFoundError\u001b[0m                       Traceback (most recent call last)",
            "\u001b[0;32m<ipython-input-1-a1a2d95fb5be>\u001b[0m in \u001b[0;36m<module>\u001b[0;34m()\u001b[0m\n\u001b[0;32m----> 1\u001b[0;31m \u001b[0;32mimport\u001b[0m \u001b[0mhtml2text\u001b[0m\u001b[0;34m\u001b[0m\u001b[0;34m\u001b[0m\u001b[0m\n\u001b[0m",
            "\u001b[0;31mModuleNotFoundError\u001b[0m: No module named 'html2text'",
            "",
            "\u001b[0;31m---------------------------------------------------------------------------\u001b[0;32m\nNOTE: If your import is failing due to a missing package, you can\nmanually install dependencies using either !pip or !apt.\n\nTo view examples of installing some common dependencies, click the\n\"Open Examples\" button below.\n\u001b[0;31m---------------------------------------------------------------------------\u001b[0m\n"
          ]
        }
      ]
    },
    {
      "cell_type": "markdown",
      "metadata": {
        "id": "Idf9PNtB_9k2",
        "colab_type": "text"
      },
      "source": [
        "## markdown不支持mermaid作图"
      ]
    },
    {
      "cell_type": "markdown",
      "metadata": {
        "id": "BNtQDWpnhUff",
        "colab_type": "text"
      },
      "source": [
        "## 插入图表\n",
        "\n",
        "---\n",
        "\n",
        "> 小章鱼笔记支持以下图表语法mermaid, sequence, vega-lite, flowchart\n",
        "\n",
        "---\n",
        "\n",
        "- 时序图\n",
        "    - sequence\n",
        "\n",
        "        ```sequence\n",
        "        A->B: “Hello”\n",
        "        ```\n",
        "    \n",
        "    - mermaid\n",
        "    \n",
        "        ```mermaid\n",
        "        sequenceDiagram\n",
        "        A->B: “Hello”\n",
        "        ```\n",
        "        \n",
        "\n",
        "- 条形图(vega-lite)\n",
        "\n",
        "    ```vega-lite\n",
        "    {\n",
        "      &quot;$schema&quot;: &quot;https://vega.github.io/schema/vega-lite/v4.json&quot;,\n",
        "      &quot;data&quot;: {\n",
        "        &quot;values&quot;: [\n",
        "          {&quot;a&quot;: &quot;C&quot;, &quot;b&quot;: 2},\n",
        "          {&quot;a&quot;: &quot;C&quot;, &quot;b&quot;: 7},\n",
        "          {&quot;a&quot;: &quot;C&quot;, &quot;b&quot;: 4},\n",
        "          {&quot;a&quot;: &quot;D&quot;, &quot;b&quot;: 1},\n",
        "          {&quot;a&quot;: &quot;D&quot;, &quot;b&quot;: 2},\n",
        "          {&quot;a&quot;: &quot;D&quot;, &quot;b&quot;: 6},\n",
        "          {&quot;a&quot;: &quot;E&quot;, &quot;b&quot;: 8},\n",
        "          {&quot;a&quot;: &quot;E&quot;, &quot;b&quot;: 4},\n",
        "          {&quot;a&quot;: &quot;E&quot;, &quot;b&quot;: 7}\n",
        "        ]\n",
        "      },\n",
        "      &quot;mark&quot;: &quot;bar&quot;,\n",
        "      &quot;encoding&quot;: {\n",
        "        &quot;y&quot;: {&quot;field&quot;: &quot;a&quot;, &quot;type&quot;: &quot;nominal&quot;},\n",
        "        &quot;x&quot;: {\n",
        "          &quot;aggregate&quot;: &quot;average&quot;,\n",
        "          &quot;field&quot;: &quot;b&quot;,\n",
        "          &quot;type&quot;: &quot;quantitative&quot;,\n",
        "          &quot;axis&quot;: {&quot;title&quot;: &quot;Mean of b&quot;}\n",
        "        }\n",
        "      }\n",
        "    \n",
        "    } \n",
        "    ```\n",
        "\n",
        "-   流程图(flowchart) \n",
        "\n",
        "    ```flow\n",
        "    st=>start: s\n",
        "    end=>end: e\n",
        "    \n",
        "    st->end\n",
        "    ```\n",
        "\n",
        "# MWeb同小章鱼区别\n",
        "> MWeb支持除mermaid, flow, sequence，不支持vega-lite\n",
        "> MWeb还支持viz, echarts, plantuml\n",
        "> 空格的区别，MWeb中空格只是形式上好看，渲染时候会根据空格渲染成代码块，或者是文字顶格\n",
        "> 关于代码缩进，MWeb是完全保留的，小章鱼会在每次渲染的时候重置顶格\n",
        "> 保证统一不随便缩进文字，如果需要用无序列表，代码块内文字不受影响\n",
        "\n",
        "\n",
        "this paragraph\n",
        "\n",
        "    this is paragraph(缩进)\n",
        "\n",
        "```\n",
        "Import requests\n",
        "url = \"www.baidu.com\" #这是缩进indent\n",
        "```\n",
        "\n",
        "    this is test\n",
        "\n",
        "```mermaid\n",
        "graph LR\n",
        "    a--hello-->b \n",
        "```\n",
        "\n",
        "下面才是代码块\n",
        "\n",
        "```python\n",
        "import requests\n",
        "url = 'www.baidu.com'\n",
        "res = requests.get(url) \n",
        "```\n",
        "\n",
        "This is paragraph\n",
        "    table\n",
        "  this is\n",
        "    \n",
        "        This is cede\n",
        "        \n",
        "        Tab\n",
        "        \n",
        "        Space"
      ]
    },
    {
      "cell_type": "code",
      "metadata": {
        "id": "PZY_powCAbqf",
        "colab_type": "code",
        "outputId": "f434e3d5-02c0-4581-ba38-f47eaa539e44",
        "colab": {
          "base_uri": "https://localhost:8080/",
          "height": 35
        }
      },
      "source": [
        "from graphviz import Digraph\n",
        "\n",
        "\n",
        "g = Digraph('G','hello.gv')\n",
        "g.edge('a','b')\n",
        "\n",
        "g.view()"
      ],
      "execution_count": 0,
      "outputs": [
        {
          "output_type": "execute_result",
          "data": {
            "text/plain": [
              "'G.gv.pdf'"
            ]
          },
          "metadata": {
            "tags": []
          },
          "execution_count": 6
        }
      ]
    },
    {
      "cell_type": "code",
      "metadata": {
        "id": "siRNv4QIDMnc",
        "colab_type": "code",
        "outputId": "ecdf4b1c-5d03-4732-cc2a-b9acff4ccda2",
        "colab": {
          "base_uri": "https://localhost:8080/",
          "height": 265
        }
      },
      "source": [
        "import matplotlib.pyplot as plt\n",
        "\n",
        "import numpy as np\n",
        "\n",
        "%matplotlib inline\n",
        "\n",
        "X=np.linspace(-np.pi,np.pi,256,endpoint=True)#-π to+π的256个值\n",
        "\n",
        "C,S=np.cos(X),np.sin(X)\n",
        "\n",
        "plt.plot(X,C)\n",
        "\n",
        "plt.plot(X,S)\n",
        "\n",
        "plt.show()\n"
      ],
      "execution_count": 0,
      "outputs": [
        {
          "output_type": "display_data",
          "data": {
            "image/png": "[encoded data removed]",
            "text/plain": [
              "<Figure size 432x288 with 1 Axes>"
            ]
          },
          "metadata": {
            "tags": []
          }
        }
      ]
    }
  ]
}